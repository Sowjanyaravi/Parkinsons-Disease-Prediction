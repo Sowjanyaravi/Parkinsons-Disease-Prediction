{
  "cells": [
    {
      "cell_type": "code",
      "source": [
        "import pandas as pd\n",
        "import numpy as np\n",
        "import seaborn as sns\n",
        "from sklearn.model_selection import train_test_split\n",
        "from sklearn.preprocessing import StandardScaler\n",
        "from sklearn.ensemble import RandomForestClassifier, GradientBoostingClassifier\n",
        "from sklearn.linear_model import LogisticRegression\n",
        "from sklearn.metrics import accuracy_score, classification_report\n",
        "from imblearn.over_sampling import SMOTE\n",
        "from sklearn.feature_selection import SelectFromModel\n",
        "from sklearn.utils.class_weight import compute_class_weight\n",
        "from sklearn.metrics import roc_auc_score # import roc_auc_score function\n"
      ],
      "metadata": {
        "id": "-gJ9oKIH2eiG"
      },
      "execution_count": 42,
      "outputs": []
    },
    {
      "cell_type": "code",
      "source": [
        "# ✅ Data Collection\n",
        "speech_data = pd.read_csv(\"cleaned_speech_data.csv\")\n",
        "gait_data = pd.read_csv(\"cleaned_gait_data.csv\")"
      ],
      "metadata": {
        "id": "1TbpxY3q2iWm"
      },
      "execution_count": 5,
      "outputs": []
    },
    {
      "cell_type": "code",
      "source": [
        "# ✅ Exploratory Data Analysis (EDA)\n",
        "print(\"Speech Data Overview:\\n\", speech_data.head())"
      ],
      "metadata": {
        "colab": {
          "base_uri": "https://localhost:8080/"
        },
        "id": "G2JHwDkD2uQX",
        "outputId": "3799be78-c31f-4166-f883-aa7ca044981f"
      },
      "execution_count": 7,
      "outputs": [
        {
          "output_type": "stream",
          "name": "stdout",
          "text": [
            "Speech Data Overview:\n",
            "    Patient_ID       age  sex  test_time  motor_UPDRS  total_UPDRS  Jitter(%)  \\\n",
            "0           1  0.734694  0.0   0.045076     0.671862     0.570887   0.058390   \n",
            "1           1  0.734694  0.0   0.077034     0.679056     0.581222   0.021884   \n",
            "2           1  0.734694  0.0   0.108957     0.686250     0.591536   0.040137   \n",
            "3           1  0.734694  0.0   0.136105     0.692342     0.600308   0.044877   \n",
            "4           1  0.734694  0.0   0.172487     0.700522     0.612081   0.025413   \n",
            "\n",
            "   Jitter(Abs)  Jitter:RAP  Jitter:PPQ5  ...  Shimmer(dB)  Shimmer:APQ3  \\\n",
            "0     0.071164    0.064324     0.039635  ...     0.098030      0.079287   \n",
            "1     0.032819    0.017305     0.015478  ...     0.073522      0.051720   \n",
            "2     0.050458    0.030065     0.023868  ...     0.074483      0.035577   \n",
            "3     0.054856    0.027618     0.031969  ...     0.144642      0.058674   \n",
            "4     0.040353    0.010488     0.012585  ...     0.072081      0.032162   \n",
            "\n",
            "   Shimmer:APQ5  Shimmer:APQ11  Shimmer:DDA       NHR       HNR      RPDE  \\\n",
            "0      0.067543       0.051764     0.079267  0.018723  0.551717  0.328638   \n",
            "1      0.053186       0.052753     0.051699  0.014474  0.704771  0.348330   \n",
            "2      0.039375       0.044291     0.035556  0.026651  0.590568  0.381812   \n",
            "3      0.064878       0.062791     0.058632  0.036834  0.629169  0.412583   \n",
            "4      0.044524       0.057515     0.032121  0.015160  0.675585  0.393664   \n",
            "\n",
            "        DFA       PPE  \n",
            "0  0.097793  0.194544  \n",
            "1  0.144300  0.121335  \n",
            "2  0.085362  0.265104  \n",
            "3  0.181761  0.437884  \n",
            "4  0.134202  0.241814  \n",
            "\n",
            "[5 rows x 22 columns]\n"
          ]
        }
      ]
    },
    {
      "cell_type": "code",
      "source": [
        "print(\"Gait Data Overview:\\n\", gait_data.head())"
      ],
      "metadata": {
        "colab": {
          "base_uri": "https://localhost:8080/"
        },
        "id": "fsUudsp426XD",
        "outputId": "c0e7d17b-134b-49cf-e284-fa8468cf6a28"
      },
      "execution_count": 8,
      "outputs": [
        {
          "output_type": "stream",
          "name": "stdout",
          "text": [
            "Gait Data Overview:\n",
            "        Patient_ID  MDVP:Fo(Hz)  MDVP:Fhi(Hz)  MDVP:Flo(Hz)  MDVP:Jitter(%)  \\\n",
            "0  phon_r01_s01_1     0.184308      0.112592      0.054815        0.195680   \n",
            "1  phon_r01_s01_2     0.198327      0.094930      0.278323        0.254130   \n",
            "2  phon_r01_s01_3     0.165039      0.059128      0.265288        0.280178   \n",
            "3  phon_r01_s01_4     0.165004      0.072927      0.264200        0.263342   \n",
            "4  phon_r01_s01_5     0.161150      0.080909      0.260107        0.354511   \n",
            "\n",
            "   MDVP:Jitter(Abs)  MDVP:RAP  MDVP:PPQ  Jitter:DDP  MDVP:Shimmer  ...  \\\n",
            "0          0.249012  0.145472  0.247588    0.145288      0.312215  ...   \n",
            "1          0.288538  0.191233  0.323687    0.191042      0.472887  ...   \n",
            "2          0.328063  0.229287  0.369239    0.229411      0.390634  ...   \n",
            "3          0.328063  0.209056  0.324759    0.208862      0.414278  ...   \n",
            "4          0.407115  0.282755  0.437299    0.282870      0.499452  ...   \n",
            "\n",
            "   Shimmer:DDA       NHR       HNR  status      RPDE       DFA   spread1  \\\n",
            "0     0.332584  0.068307  0.511745     1.0  0.369155  0.960148  0.569875   \n",
            "1     0.516048  0.059331  0.432577     1.0  0.470830  0.977024  0.703277   \n",
            "2     0.443317  0.039596  0.496220     1.0  0.404416  1.000000  0.636745   \n",
            "3     0.475478  0.040997  0.495936     1.0  0.416255  0.975885  0.695627   \n",
            "4     0.584542  0.054174  0.455499     1.0  0.375159  0.992813  0.762472   \n",
            "\n",
            "    spread2        D2       PPE  \n",
            "0  0.585765  0.390661  0.497310  \n",
            "1  0.741337  0.473145  0.671326  \n",
            "2  0.686371  0.408819  0.596682  \n",
            "3  0.738089  0.436977  0.671949  \n",
            "4  0.513798  0.404336  0.757611  \n",
            "\n",
            "[5 rows x 24 columns]\n"
          ]
        }
      ]
    },
    {
      "cell_type": "code",
      "source": [
        "print('Number of Features In Dataset :', speech_data.shape[1])\n",
        "print('Number of Instances In Dataset :', speech_data.shape[0])\n",
        "print('Number of Features In Dataset : ', gait_data.shape[1])\n",
        "print('Number of Instances In Dataset : ', gait_data.shape[0])"
      ],
      "metadata": {
        "colab": {
          "base_uri": "https://localhost:8080/"
        },
        "id": "S_8o3mxu28zW",
        "outputId": "727b4034-5fdd-4067-b5eb-b5e415ad936c"
      },
      "execution_count": 10,
      "outputs": [
        {
          "output_type": "stream",
          "name": "stdout",
          "text": [
            "Number of Features In Dataset : 22\n",
            "Number of Instances In Dataset : 5875\n",
            "Number of Features In Dataset :  24\n",
            "Number of Instances In Dataset :  195\n"
          ]
        }
      ]
    },
    {
      "cell_type": "code",
      "source": [
        "\n",
        "# ✅ Preprocessing: Remove Non-Numeric Columns\n",
        "speech_data = speech_data.select_dtypes(include=[np.number])\n",
        "gait_data = gait_data.select_dtypes(include=[np.number])\n",
        "\n",
        "# ✅ Drop duplicate feature columns from Gait Data\n",
        "columns_to_remove = [\"Jitter:DDP\", \"Shimmer:APQ3\", \"Shimmer:APQ5\", \"NHR\", \"HNR\", \"RPDE\", \"DFA\", \"PPE\"]\n",
        "gait_data = gait_data.drop(columns=[col for col in columns_to_remove if col in gait_data.columns], errors='ignore')\n",
        "\n",
        "# ✅ Concatenate Speech & Gait Data Horizontally\n",
        "X = pd.concat([speech_data, gait_data], axis=1)\n",
        "\n",
        "# ✅ Use motor_UPDRS from Speech dataset as the target variable\n",
        "y = (speech_data[\"motor_UPDRS\"] > speech_data[\"motor_UPDRS\"].median()).astype(int)\n",
        "\n",
        "# ✅ Drop the target variable from features\n",
        "X = X.drop(columns=[\"motor_UPDRS\"], errors='ignore')\n",
        "\n",
        "# 🚀 Handle NaN Values\n",
        "X.fillna(X.mean(), inplace=True)  # Replace NaNs with column mean"
      ],
      "metadata": {
        "id": "wJ8IaAzL6lYU"
      },
      "execution_count": 12,
      "outputs": []
    },
    {
      "cell_type": "code",
      "source": [
        "speech_data.info()"
      ],
      "metadata": {
        "colab": {
          "base_uri": "https://localhost:8080/"
        },
        "id": "AAmck3Bc6Ko5",
        "outputId": "77f95e8e-72f2-46a3-c547-c19f3b9a48ff"
      },
      "execution_count": 13,
      "outputs": [
        {
          "output_type": "stream",
          "name": "stdout",
          "text": [
            "<class 'pandas.core.frame.DataFrame'>\n",
            "RangeIndex: 5875 entries, 0 to 5874\n",
            "Data columns (total 22 columns):\n",
            " #   Column         Non-Null Count  Dtype  \n",
            "---  ------         --------------  -----  \n",
            " 0   Patient_ID     5875 non-null   int64  \n",
            " 1   age            5875 non-null   float64\n",
            " 2   sex            5875 non-null   float64\n",
            " 3   test_time      5875 non-null   float64\n",
            " 4   motor_UPDRS    5875 non-null   float64\n",
            " 5   total_UPDRS    5875 non-null   float64\n",
            " 6   Jitter(%)      5875 non-null   float64\n",
            " 7   Jitter(Abs)    5875 non-null   float64\n",
            " 8   Jitter:RAP     5875 non-null   float64\n",
            " 9   Jitter:PPQ5    5875 non-null   float64\n",
            " 10  Jitter:DDP     5875 non-null   float64\n",
            " 11  Shimmer        5875 non-null   float64\n",
            " 12  Shimmer(dB)    5875 non-null   float64\n",
            " 13  Shimmer:APQ3   5875 non-null   float64\n",
            " 14  Shimmer:APQ5   5875 non-null   float64\n",
            " 15  Shimmer:APQ11  5875 non-null   float64\n",
            " 16  Shimmer:DDA    5875 non-null   float64\n",
            " 17  NHR            5875 non-null   float64\n",
            " 18  HNR            5875 non-null   float64\n",
            " 19  RPDE           5875 non-null   float64\n",
            " 20  DFA            5875 non-null   float64\n",
            " 21  PPE            5875 non-null   float64\n",
            "dtypes: float64(21), int64(1)\n",
            "memory usage: 1009.9 KB\n"
          ]
        }
      ]
    },
    {
      "cell_type": "code",
      "source": [
        "# Checking For Duplicate Rows In Dataset\n",
        "print('Number of Duplicated Rows in speech dataset :',speech_data.duplicated().sum())\n",
        "print('Number of Duplicated Rows in gait dataset :',gait_data.duplicated().sum())"
      ],
      "metadata": {
        "colab": {
          "base_uri": "https://localhost:8080/"
        },
        "id": "8tOsxeCy6o0E",
        "outputId": "3b778139-5f24-46b9-f544-d8f5324edcb6"
      },
      "execution_count": 16,
      "outputs": [
        {
          "output_type": "stream",
          "name": "stdout",
          "text": [
            "Number of Duplicated Rows in speech dataset : 0\n",
            "Number of Duplicated Rows in gait dataset : 0\n"
          ]
        }
      ]
    },
    {
      "cell_type": "code",
      "source": [
        "# Checking For Missing Values In Dataset\n",
        "gait_data.isna().sum()\n",
        "speech_data.isna().sum()"
      ],
      "metadata": {
        "colab": {
          "base_uri": "https://localhost:8080/",
          "height": 774
        },
        "id": "O4V2zhMF60xf",
        "outputId": "f6fdcd8e-e713-4e38-fb85-dc942bc0a024"
      },
      "execution_count": 18,
      "outputs": [
        {
          "output_type": "execute_result",
          "data": {
            "text/plain": [
              "Patient_ID       0\n",
              "age              0\n",
              "sex              0\n",
              "test_time        0\n",
              "motor_UPDRS      0\n",
              "total_UPDRS      0\n",
              "Jitter(%)        0\n",
              "Jitter(Abs)      0\n",
              "Jitter:RAP       0\n",
              "Jitter:PPQ5      0\n",
              "Jitter:DDP       0\n",
              "Shimmer          0\n",
              "Shimmer(dB)      0\n",
              "Shimmer:APQ3     0\n",
              "Shimmer:APQ5     0\n",
              "Shimmer:APQ11    0\n",
              "Shimmer:DDA      0\n",
              "NHR              0\n",
              "HNR              0\n",
              "RPDE             0\n",
              "DFA              0\n",
              "PPE              0\n",
              "dtype: int64"
            ],
            "text/html": [
              "<div>\n",
              "<style scoped>\n",
              "    .dataframe tbody tr th:only-of-type {\n",
              "        vertical-align: middle;\n",
              "    }\n",
              "\n",
              "    .dataframe tbody tr th {\n",
              "        vertical-align: top;\n",
              "    }\n",
              "\n",
              "    .dataframe thead th {\n",
              "        text-align: right;\n",
              "    }\n",
              "</style>\n",
              "<table border=\"1\" class=\"dataframe\">\n",
              "  <thead>\n",
              "    <tr style=\"text-align: right;\">\n",
              "      <th></th>\n",
              "      <th>0</th>\n",
              "    </tr>\n",
              "  </thead>\n",
              "  <tbody>\n",
              "    <tr>\n",
              "      <th>Patient_ID</th>\n",
              "      <td>0</td>\n",
              "    </tr>\n",
              "    <tr>\n",
              "      <th>age</th>\n",
              "      <td>0</td>\n",
              "    </tr>\n",
              "    <tr>\n",
              "      <th>sex</th>\n",
              "      <td>0</td>\n",
              "    </tr>\n",
              "    <tr>\n",
              "      <th>test_time</th>\n",
              "      <td>0</td>\n",
              "    </tr>\n",
              "    <tr>\n",
              "      <th>motor_UPDRS</th>\n",
              "      <td>0</td>\n",
              "    </tr>\n",
              "    <tr>\n",
              "      <th>total_UPDRS</th>\n",
              "      <td>0</td>\n",
              "    </tr>\n",
              "    <tr>\n",
              "      <th>Jitter(%)</th>\n",
              "      <td>0</td>\n",
              "    </tr>\n",
              "    <tr>\n",
              "      <th>Jitter(Abs)</th>\n",
              "      <td>0</td>\n",
              "    </tr>\n",
              "    <tr>\n",
              "      <th>Jitter:RAP</th>\n",
              "      <td>0</td>\n",
              "    </tr>\n",
              "    <tr>\n",
              "      <th>Jitter:PPQ5</th>\n",
              "      <td>0</td>\n",
              "    </tr>\n",
              "    <tr>\n",
              "      <th>Jitter:DDP</th>\n",
              "      <td>0</td>\n",
              "    </tr>\n",
              "    <tr>\n",
              "      <th>Shimmer</th>\n",
              "      <td>0</td>\n",
              "    </tr>\n",
              "    <tr>\n",
              "      <th>Shimmer(dB)</th>\n",
              "      <td>0</td>\n",
              "    </tr>\n",
              "    <tr>\n",
              "      <th>Shimmer:APQ3</th>\n",
              "      <td>0</td>\n",
              "    </tr>\n",
              "    <tr>\n",
              "      <th>Shimmer:APQ5</th>\n",
              "      <td>0</td>\n",
              "    </tr>\n",
              "    <tr>\n",
              "      <th>Shimmer:APQ11</th>\n",
              "      <td>0</td>\n",
              "    </tr>\n",
              "    <tr>\n",
              "      <th>Shimmer:DDA</th>\n",
              "      <td>0</td>\n",
              "    </tr>\n",
              "    <tr>\n",
              "      <th>NHR</th>\n",
              "      <td>0</td>\n",
              "    </tr>\n",
              "    <tr>\n",
              "      <th>HNR</th>\n",
              "      <td>0</td>\n",
              "    </tr>\n",
              "    <tr>\n",
              "      <th>RPDE</th>\n",
              "      <td>0</td>\n",
              "    </tr>\n",
              "    <tr>\n",
              "      <th>DFA</th>\n",
              "      <td>0</td>\n",
              "    </tr>\n",
              "    <tr>\n",
              "      <th>PPE</th>\n",
              "      <td>0</td>\n",
              "    </tr>\n",
              "  </tbody>\n",
              "</table>\n",
              "</div><br><label><b>dtype:</b> int64</label>"
            ]
          },
          "metadata": {},
          "execution_count": 18
        }
      ]
    },
    {
      "cell_type": "code",
      "source": [
        "#Balance of Data\n",
        "df = pd.DataFrame({'status': y})\n",
        "\n",
        "sns.countplot(x='status', data=df)"
      ],
      "metadata": {
        "colab": {
          "base_uri": "https://localhost:8080/",
          "height": 466
        },
        "id": "91KWzuNYZbtx",
        "outputId": "761eb3cf-3874-428f-a4ba-3f59fe0b8d8b"
      },
      "execution_count": 32,
      "outputs": [
        {
          "output_type": "execute_result",
          "data": {
            "text/plain": [
              "<Axes: xlabel='status', ylabel='count'>"
            ]
          },
          "metadata": {},
          "execution_count": 32
        },
        {
          "output_type": "display_data",
          "data": {
            "text/plain": [
              "<Figure size 640x480 with 1 Axes>"
            ],
            "image/png": "[encoded data removed]"
          },
          "metadata": {}
        }
      ]
    },
    {
      "cell_type": "code",
      "source": [
        "# ✅ Train-Test Split\n",
        "X_train, X_test, y_train, y_test = train_test_split(X, y, test_size=0.2, random_state=42, stratify=y)\n",
        "\n",
        "# ✅ Balancing the Dataset with SMOTE\n",
        "smote = SMOTE(random_state=42)\n",
        "X_train, y_train = smote.fit_resample(X_train, y_train)\n",
        "\n",
        "# ✅ Standardize Features\n",
        "scaler = StandardScaler()\n",
        "X_train = scaler.fit_transform(X_train)\n",
        "X_test = scaler.transform(X_test)\n",
        "\n",
        "# ✅ Compute Class Weights\n",
        "class_weights = compute_class_weight(class_weight=\"balanced\", classes=np.unique(y_train), y=y_train)\n",
        "class_weight_dict = {i: class_weights[i] for i in range(len(class_weights))}\n",
        "\n"
      ],
      "metadata": {
        "id": "PtywYn_Pcdf_"
      },
      "execution_count": 40,
      "outputs": []
    },
    {
      "cell_type": "code",
      "source": [
        "# ✅ Random Forest Model\n",
        "random_forest_model = RandomForestClassifier(n_estimators=10, max_depth=2, min_samples_split=15, min_samples_leaf=7, max_features=\"sqrt\", random_state=42, class_weight=class_weight_dict)\n",
        "random_forest_model.fit(X_train, y_train)\n",
        "y_pred_rf = random_forest_model.predict(X_test)\n",
        "y_pred_proba_rf = random_forest_model.predict_proba(X_test)[:, 1]  # Get probabilities for ROC AUC\n",
        "\n",
        "# Calculate metrics for Random Forest\n",
        "accuracy_rf = accuracy_score(y_test, y_pred_rf)\n",
        "conf_matrix_rf = confusion_matrix(y_test, y_pred_rf)\n",
        "auc_roc_rf = roc_auc_score(y_test, y_pred_proba_rf)\n",
        "\n",
        "# Print metrics for Random Forest\n",
        "print(\"\\nRandom Forest Model Accuracy: {:.2f}\".format(accuracy_rf))\n",
        "print(\"Confusion Matrix:\\n\", conf_matrix_rf)\n",
        "print(\"AUC-ROC Score: {:.2f}\".format(auc_roc_rf))\n",
        "print(\"Classification Report:\\n\", classification_report(y_test, y_pred_rf))\n",
        "\n",
        "# Plot ROC Curve for Random Forest\n",
        "fpr_rf, tpr_rf, thresholds_rf = roc_curve(y_test, y_pred_proba_rf)\n",
        "plt.figure()\n",
        "plt.plot(fpr_rf, tpr_rf, label='Random Forest (AUC = {:.2f})'.format(auc_roc_rf))\n",
        "plt.plot([0, 1], [0, 1], 'k--')\n",
        "plt.xlim([0.0, 1.0])\n",
        "plt.ylim([0.0, 1.05])\n",
        "plt.xlabel('False Positive Rate')\n",
        "plt.ylabel('True Positive Rate')\n",
        "plt.title('ROC Curve - Random Forest')\n",
        "plt.legend(loc=\"lower right\")\n",
        "plt.show()"
      ],
      "metadata": {
        "colab": {
          "base_uri": "https://localhost:8080/",
          "height": 688
        },
        "id": "cdS18NuYfu1k",
        "outputId": "2c68da9e-7f47-49e4-960f-63a408f03d08"
      },
      "execution_count": 44,
      "outputs": [
        {
          "output_type": "stream",
          "name": "stdout",
          "text": [
            "\n",
            "Random Forest Model Accuracy: 0.95\n",
            "Confusion Matrix:\n",
            " [[557  31]\n",
            " [ 23 564]]\n",
            "AUC-ROC Score: 0.97\n",
            "Classification Report:\n",
            "               precision    recall  f1-score   support\n",
            "\n",
            "           0       0.96      0.95      0.95       588\n",
            "           1       0.95      0.96      0.95       587\n",
            "\n",
            "    accuracy                           0.95      1175\n",
            "   macro avg       0.95      0.95      0.95      1175\n",
            "weighted avg       0.95      0.95      0.95      1175\n",
            "\n"
          ]
        },
        {
          "output_type": "display_data",
          "data": {
            "text/plain": [
              "<Figure size 1500x400 with 1 Axes>"
            ],
            "image/png": "[encoded data removed]"
          },
          "metadata": {}
        }
      ]
    },
    {
      "cell_type": "code",
      "source": [
        "# ✅ Logistic Regression Model\n",
        "logistic_model = LogisticRegression(max_iter=500, random_state=42, C=0.5)  # Moderate regularization\n",
        "logistic_model.fit(X_train, y_train)\n",
        "y_pred_logistic = logistic_model.predict(X_test)\n",
        "y_pred_proba_logistic = logistic_model.predict_proba(X_test)[:, 1]  # Get probabilities for ROC AUC\n",
        "\n",
        "# Calculate metrics for Logistic Regression\n",
        "accuracy_logistic = accuracy_score(y_test, y_pred_logistic)\n",
        "conf_matrix_logistic = confusion_matrix(y_test, y_pred_logistic)\n",
        "report_logistic = classification_report(y_test, y_pred_logistic, output_dict=True)\n",
        "auc_roc_logistic = roc_auc_score(y_test, y_pred_proba_logistic)\n",
        "\n",
        "# Print metrics for Logistic Regression\n",
        "print(\"\\nLogistic Regression Model Accuracy: {:.2f}\".format(accuracy_logistic))\n",
        "print(\"Confusion Matrix:\\n\", conf_matrix_logistic)\n",
        "print(\"AUC-ROC Score: {:.2f}\".format(auc_roc_logistic))\n",
        "print(\"Classification Report:\\n\", classification_report(y_test, y_pred_logistic))\n",
        "\n",
        "# Plot ROC Curve for Logistic Regression\n",
        "fpr_logistic, tpr_logistic, thresholds_logistic = roc_curve(y_test, y_pred_proba_logistic)\n",
        "plt.figure()\n",
        "plt.plot(fpr_logistic, tpr_logistic, label='Logistic Regression (AUC = {:.2f})'.format(auc_roc_logistic))\n",
        "plt.plot([0, 1], [0, 1], 'k--')\n",
        "plt.xlim([0.0, 1.0])\n",
        "plt.ylim([0.0, 1.05])\n",
        "plt.xlabel('False Positive Rate')\n",
        "plt.ylabel('True Positive Rate')\n",
        "plt.title('ROC Curve - Logistic Regression')\n",
        "plt.legend(loc=\"lower right\")\n",
        "plt.show()"
      ],
      "metadata": {
        "colab": {
          "base_uri": "https://localhost:8080/",
          "height": 688
        },
        "id": "Pzm59l00c4Ds",
        "outputId": "39aebae7-1056-411b-c231-38f2c31135b4"
      },
      "execution_count": 43,
      "outputs": [
        {
          "output_type": "stream",
          "name": "stdout",
          "text": [
            "\n",
            "Logistic Regression Model Accuracy: 0.96\n",
            "Confusion Matrix:\n",
            " [[571  17]\n",
            " [ 35 552]]\n",
            "AUC-ROC Score: 0.99\n",
            "Classification Report:\n",
            "               precision    recall  f1-score   support\n",
            "\n",
            "           0       0.94      0.97      0.96       588\n",
            "           1       0.97      0.94      0.96       587\n",
            "\n",
            "    accuracy                           0.96      1175\n",
            "   macro avg       0.96      0.96      0.96      1175\n",
            "weighted avg       0.96      0.96      0.96      1175\n",
            "\n"
          ]
        },
        {
          "output_type": "display_data",
          "data": {
            "text/plain": [
              "<Figure size 1500x400 with 1 Axes>"
            ],
            "image/png": "[encoded data removed]"
          },
          "metadata": {}
        }
      ]
    },
    {
      "cell_type": "code",
      "source": [
        "\n",
        "# ✅ Gradient Boosting Model\n",
        "gradient_boosting_model = GradientBoostingClassifier(n_estimators=50, learning_rate=0.1, max_depth=2, random_state=42)\n",
        "gradient_boosting_model.fit(X_train, y_train)\n",
        "y_pred_gb = gradient_boosting_model.predict(X_test)\n",
        "y_pred_proba_gb = gradient_boosting_model.predict_proba(X_test)[:, 1]  # Get probabilities for ROC AUC\n",
        "\n",
        "# Calculate metrics for Gradient Boosting\n",
        "accuracy_gb = accuracy_score(y_test, y_pred_gb)\n",
        "conf_matrix_gb = confusion_matrix(y_test, y_pred_gb)\n",
        "auc_roc_gb = roc_auc_score(y_test, y_pred_proba_gb)\n",
        "\n",
        "# Print metrics for Gradient Boosting\n",
        "print(\"\\nGradient Boosting Model Accuracy: {:.2f}\".format(accuracy_gb))\n",
        "print(\"Confusion Matrix:\\n\", conf_matrix_gb)\n",
        "print(\"AUC-ROC Score: {:.2f}\".format(auc_roc_gb))\n",
        "print(\"Classification Report:\\n\", classification_report(y_test, y_pred_gb))\n",
        "\n",
        "# Plot ROC Curve for Gradient Boosting\n",
        "fpr_gb, tpr_gb, thresholds_gb = roc_curve(y_test, y_pred_proba_gb)\n",
        "plt.figure()\n",
        "plt.plot(fpr_gb, tpr_gb, label='Gradient Boosting (AUC = {:.2f})'.format(auc_roc_gb))\n",
        "plt.plot([0, 1], [0, 1], 'k--')\n",
        "plt.xlim([0.0, 1.0])\n",
        "plt.ylim([0.0, 1.05])\n",
        "plt.xlabel('False Positive Rate')\n",
        "plt.ylabel('True Positive Rate')\n",
        "plt.title('ROC Curve - Gradient Boosting')\n",
        "plt.legend(loc=\"lower right\")\n",
        "plt.show()"
      ],
      "metadata": {
        "colab": {
          "base_uri": "https://localhost:8080/",
          "height": 688
        },
        "id": "2rcJ5fsvgjwr",
        "outputId": "57ace67b-97ac-4f1d-cd30-6b47b8cceba0"
      },
      "execution_count": 45,
      "outputs": [
        {
          "output_type": "stream",
          "name": "stdout",
          "text": [
            "\n",
            "Gradient Boosting Model Accuracy: 0.97\n",
            "Confusion Matrix:\n",
            " [[583   5]\n",
            " [ 29 558]]\n",
            "AUC-ROC Score: 1.00\n",
            "Classification Report:\n",
            "               precision    recall  f1-score   support\n",
            "\n",
            "           0       0.95      0.99      0.97       588\n",
            "           1       0.99      0.95      0.97       587\n",
            "\n",
            "    accuracy                           0.97      1175\n",
            "   macro avg       0.97      0.97      0.97      1175\n",
            "weighted avg       0.97      0.97      0.97      1175\n",
            "\n"
          ]
        },
        {
          "output_type": "display_data",
          "data": {
            "text/plain": [
              "<Figure size 1500x400 with 1 Axes>"
            ],
            "image/png": "[encoded data removed]"
          },
          "metadata": {}
        }
      ]
    },
    {
      "cell_type": "code",
      "source": [
        "from sklearn.metrics import precision_score, recall_score, accuracy_score, f1_score, r2_score, log_loss\n",
        "from sklearn.tree import DecisionTreeClassifier # import DecisionTreeClassifier\n",
        "# Assuming you have your X_train, X_test, y_train, y_test from previous cells\n",
        "\n",
        "# Initialize and train a Decision Tree Classifier\n",
        "dt_model = DecisionTreeClassifier(random_state=42)\n",
        "dt_model.fit(X_train, y_train)\n",
        "predDT = dt_model.predict(X_test) # Get predictions for Decision Tree\n",
        "\n",
        "# Assuming predRFC, predlog, and predGB are predictions from your models\n",
        "# Replace these with the actual variable names you used for predictions\n",
        "predRFC = random_forest_model.predict(X_test)  # Predictions from Random Forest\n",
        "predlog = logistic_model.predict(X_test)     # Predictions from Logistic Regression\n",
        "predGB = gradient_boosting_model.predict(X_test)  # Predictions from Gradient Boosting\n",
        "\n",
        "\n",
        "chart = {\n",
        "        'Metric':[\"Accuracy\", \"F1-Score\", \"Recall\", \"Precision\", \"R2-Score\"],\n",
        "        'RF':[accuracy_score(y_test, predRFC), f1_score(y_test, predRFC), recall_score(y_test, predRFC), precision_score(y_test, predRFC), r2_score(y_test, predRFC)],\n",
        "        'LR':[accuracy_score(y_test, predlog), f1_score(y_test, predlog), recall_score(y_test, predlog), precision_score(y_test, predlog), r2_score(y_test, predlog)],\n",
        "        'XGB':[accuracy_score(y_test, predGB), f1_score(y_test, predGB), recall_score(y_test, predGB), precision_score(y_test, predGB), r2_score(y_test, predGB)]\n",
        "}\n",
        "chart = pd.DataFrame(chart)"
      ],
      "metadata": {
        "id": "y59OhgH6j5Nd"
      },
      "execution_count": 49,
      "outputs": []
    },
    {
      "cell_type": "code",
      "source": [
        "display(chart)"
      ],
      "metadata": {
        "colab": {
          "base_uri": "https://localhost:8080/",
          "height": 206
        },
        "id": "IMA3JE6_lOEy",
        "outputId": "3331705a-bd47-4203-838a-2cf366677935"
      },
      "execution_count": 51,
      "outputs": [
        {
          "output_type": "display_data",
          "data": {
            "text/plain": [
              "      Metric        RF        LR       XGB\n",
              "0   Accuracy  0.954043  0.955745  0.971064\n",
              "1   F1-Score  0.954315  0.955017  0.970435\n",
              "2     Recall  0.960818  0.940375  0.950596\n",
              "3  Precision  0.947899  0.970123  0.991119\n",
              "4   R2-Score  0.816170  0.822979  0.884255"
            ],
            "text/html": [
              "\n",
              "  <div id=\"df-60d29625-9884-43cb-a98b-37bc56bca680\" class=\"colab-df-container\">\n",
              "    <div>\n",
              "<style scoped>\n",
              "    .dataframe tbody tr th:only-of-type {\n",
              "        vertical-align: middle;\n",
              "    }\n",
              "\n",
              "    .dataframe tbody tr th {\n",
              "        vertical-align: top;\n",
              "    }\n",
              "\n",
              "    .dataframe thead th {\n",
              "        text-align: right;\n",
              "    }\n",
              "</style>\n",
              "<table border=\"1\" class=\"dataframe\">\n",
              "  <thead>\n",
              "    <tr style=\"text-align: right;\">\n",
              "      <th></th>\n",
              "      <th>Metric</th>\n",
              "      <th>RF</th>\n",
              "      <th>LR</th>\n",
              "      <th>XGB</th>\n",
              "    </tr>\n",
              "  </thead>\n",
              "  <tbody>\n",
              "    <tr>\n",
              "      <th>0</th>\n",
              "      <td>Accuracy</td>\n",
              "      <td>0.954043</td>\n",
              "      <td>0.955745</td>\n",
              "      <td>0.971064</td>\n",
              "    </tr>\n",
              "    <tr>\n",
              "      <th>1</th>\n",
              "      <td>F1-Score</td>\n",
              "      <td>0.954315</td>\n",
              "      <td>0.955017</td>\n",
              "      <td>0.970435</td>\n",
              "    </tr>\n",
              "    <tr>\n",
              "      <th>2</th>\n",
              "      <td>Recall</td>\n",
              "      <td>0.960818</td>\n",
              "      <td>0.940375</td>\n",
              "      <td>0.950596</td>\n",
              "    </tr>\n",
              "    <tr>\n",
              "      <th>3</th>\n",
              "      <td>Precision</td>\n",
              "      <td>0.947899</td>\n",
              "      <td>0.970123</td>\n",
              "      <td>0.991119</td>\n",
              "    </tr>\n",
              "    <tr>\n",
              "      <th>4</th>\n",
              "      <td>R2-Score</td>\n",
              "      <td>0.816170</td>\n",
              "      <td>0.822979</td>\n",
              "      <td>0.884255</td>\n",
              "    </tr>\n",
              "  </tbody>\n",
              "</table>\n",
              "</div>\n",
              "    <div class=\"colab-df-buttons\">\n",
              "\n",
              "  <div class=\"colab-df-container\">\n",
              "    <button class=\"colab-df-convert\" onclick=\"convertToInteractive('df-60d29625-9884-43cb-a98b-37bc56bca680')\"\n",
              "            title=\"Convert this dataframe to an interactive table.\"\n",
              "            style=\"display:none;\">\n",
              "\n",
              "  <svg xmlns=\"http://www.w3.org/2000/svg\" height=\"24px\" viewBox=\"0 -960 960 960\">\n",
              "    <path d=\"M120-120v-720h720v720H120Zm60-500h600v-160H180v160Zm220 220h160v-160H400v160Zm0 220h160v-160H400v160ZM180-400h160v-160H180v160Zm440 0h160v-160H620v160ZM180-180h160v-160H180v160Zm440 0h160v-160H620v160Z\"/>\n",
              "  </svg>\n",
              "    </button>\n",
              "\n",
              "  <style>\n",
              "    .colab-df-container {\n",
              "      display:flex;\n",
              "      gap: 12px;\n",
              "    }\n",
              "\n",
              "    .colab-df-convert {\n",
              "      background-color: #E8F0FE;\n",
              "      border: none;\n",
              "      border-radius: 50%;\n",
              "      cursor: pointer;\n",
              "      display: none;\n",
              "      fill: #1967D2;\n",
              "      height: 32px;\n",
              "      padding: 0 0 0 0;\n",
              "      width: 32px;\n",
              "    }\n",
              "\n",
              "    .colab-df-convert:hover {\n",
              "      background-color: #E2EBFA;\n",
              "      box-shadow: 0px 1px 2px rgba(60, 64, 67, 0.3), 0px 1px 3px 1px rgba(60, 64, 67, 0.15);\n",
              "      fill: #174EA6;\n",
              "    }\n",
              "\n",
              "    .colab-df-buttons div {\n",
              "      margin-bottom: 4px;\n",
              "    }\n",
              "\n",
              "    [theme=dark] .colab-df-convert {\n",
              "      background-color: #3B4455;\n",
              "      fill: #D2E3FC;\n",
              "    }\n",
              "\n",
              "    [theme=dark] .colab-df-convert:hover {\n",
              "      background-color: #434B5C;\n",
              "      box-shadow: 0px 1px 3px 1px rgba(0, 0, 0, 0.15);\n",
              "      filter: drop-shadow(0px 1px 2px rgba(0, 0, 0, 0.3));\n",
              "      fill: #FFFFFF;\n",
              "    }\n",
              "  </style>\n",
              "\n",
              "    <script>\n",
              "      const buttonEl =\n",
              "        document.querySelector('#df-60d29625-9884-43cb-a98b-37bc56bca680 button.colab-df-convert');\n",
              "      buttonEl.style.display =\n",
              "        google.colab.kernel.accessAllowed ? 'block' : 'none';\n",
              "\n",
              "      async function convertToInteractive(key) {\n",
              "        const element = document.querySelector('#df-60d29625-9884-43cb-a98b-37bc56bca680');\n",
              "        const dataTable =\n",
              "          await google.colab.kernel.invokeFunction('convertToInteractive',\n",
              "                                                    [key], {});\n",
              "        if (!dataTable) return;\n",
              "\n",
              "        const docLinkHtml = 'Like what you see? Visit the ' +\n",
              "          '<a target=\"_blank\" href=https://colab.research.google.com/notebooks/data_table.ipynb>data table notebook</a>'\n",
              "          + ' to learn more about interactive tables.';\n",
              "        element.innerHTML = '';\n",
              "        dataTable['output_type'] = 'display_data';\n",
              "        await google.colab.output.renderOutput(dataTable, element);\n",
              "        const docLink = document.createElement('div');\n",
              "        docLink.innerHTML = docLinkHtml;\n",
              "        element.appendChild(docLink);\n",
              "      }\n",
              "    </script>\n",
              "  </div>\n",
              "\n",
              "\n",
              "<div id=\"df-fe139934-1bb3-4a5c-93e6-e66034907910\">\n",
              "  <button class=\"colab-df-quickchart\" onclick=\"quickchart('df-fe139934-1bb3-4a5c-93e6-e66034907910')\"\n",
              "            title=\"Suggest charts\"\n",
              "            style=\"display:none;\">\n",
              "\n",
              "<svg xmlns=\"http://www.w3.org/2000/svg\" height=\"24px\"viewBox=\"0 0 24 24\"\n",
              "     width=\"24px\">\n",
              "    <g>\n",
              "        <path d=\"M19 3H5c-1.1 0-2 .9-2 2v14c0 1.1.9 2 2 2h14c1.1 0 2-.9 2-2V5c0-1.1-.9-2-2-2zM9 17H7v-7h2v7zm4 0h-2V7h2v10zm4 0h-2v-4h2v4z\"/>\n",
              "    </g>\n",
              "</svg>\n",
              "  </button>\n",
              "\n",
              "<style>\n",
              "  .colab-df-quickchart {\n",
              "      --bg-color: #E8F0FE;\n",
              "      --fill-color: #1967D2;\n",
              "      --hover-bg-color: #E2EBFA;\n",
              "      --hover-fill-color: #174EA6;\n",
              "      --disabled-fill-color: #AAA;\n",
              "      --disabled-bg-color: #DDD;\n",
              "  }\n",
              "\n",
              "  [theme=dark] .colab-df-quickchart {\n",
              "      --bg-color: #3B4455;\n",
              "      --fill-color: #D2E3FC;\n",
              "      --hover-bg-color: #434B5C;\n",
              "      --hover-fill-color: #FFFFFF;\n",
              "      --disabled-bg-color: #3B4455;\n",
              "      --disabled-fill-color: #666;\n",
              "  }\n",
              "\n",
              "  .colab-df-quickchart {\n",
              "    background-color: var(--bg-color);\n",
              "    border: none;\n",
              "    border-radius: 50%;\n",
              "    cursor: pointer;\n",
              "    display: none;\n",
              "    fill: var(--fill-color);\n",
              "    height: 32px;\n",
              "    padding: 0;\n",
              "    width: 32px;\n",
              "  }\n",
              "\n",
              "  .colab-df-quickchart:hover {\n",
              "    background-color: var(--hover-bg-color);\n",
              "    box-shadow: 0 1px 2px rgba(60, 64, 67, 0.3), 0 1px 3px 1px rgba(60, 64, 67, 0.15);\n",
              "    fill: var(--button-hover-fill-color);\n",
              "  }\n",
              "\n",
              "  .colab-df-quickchart-complete:disabled,\n",
              "  .colab-df-quickchart-complete:disabled:hover {\n",
              "    background-color: var(--disabled-bg-color);\n",
              "    fill: var(--disabled-fill-color);\n",
              "    box-shadow: none;\n",
              "  }\n",
              "\n",
              "  .colab-df-spinner {\n",
              "    border: 2px solid var(--fill-color);\n",
              "    border-color: transparent;\n",
              "    border-bottom-color: var(--fill-color);\n",
              "    animation:\n",
              "      spin 1s steps(1) infinite;\n",
              "  }\n",
              "\n",
              "  @keyframes spin {\n",
              "    0% {\n",
              "      border-color: transparent;\n",
              "      border-bottom-color: var(--fill-color);\n",
              "      border-left-color: var(--fill-color);\n",
              "    }\n",
              "    20% {\n",
              "      border-color: transparent;\n",
              "      border-left-color: var(--fill-color);\n",
              "      border-top-color: var(--fill-color);\n",
              "    }\n",
              "    30% {\n",
              "      border-color: transparent;\n",
              "      border-left-color: var(--fill-color);\n",
              "      border-top-color: var(--fill-color);\n",
              "      border-right-color: var(--fill-color);\n",
              "    }\n",
              "    40% {\n",
              "      border-color: transparent;\n",
              "      border-right-color: var(--fill-color);\n",
              "      border-top-color: var(--fill-color);\n",
              "    }\n",
              "    60% {\n",
              "      border-color: transparent;\n",
              "      border-right-color: var(--fill-color);\n",
              "    }\n",
              "    80% {\n",
              "      border-color: transparent;\n",
              "      border-right-color: var(--fill-color);\n",
              "      border-bottom-color: var(--fill-color);\n",
              "    }\n",
              "    90% {\n",
              "      border-color: transparent;\n",
              "      border-bottom-color: var(--fill-color);\n",
              "    }\n",
              "  }\n",
              "</style>\n",
              "\n",
              "  <script>\n",
              "    async function quickchart(key) {\n",
              "      const quickchartButtonEl =\n",
              "        document.querySelector('#' + key + ' button');\n",
              "      quickchartButtonEl.disabled = true;  // To prevent multiple clicks.\n",
              "      quickchartButtonEl.classList.add('colab-df-spinner');\n",
              "      try {\n",
              "        const charts = await google.colab.kernel.invokeFunction(\n",
              "            'suggestCharts', [key], {});\n",
              "      } catch (error) {\n",
              "        console.error('Error during call to suggestCharts:', error);\n",
              "      }\n",
              "      quickchartButtonEl.classList.remove('colab-df-spinner');\n",
              "      quickchartButtonEl.classList.add('colab-df-quickchart-complete');\n",
              "    }\n",
              "    (() => {\n",
              "      let quickchartButtonEl =\n",
              "        document.querySelector('#df-fe139934-1bb3-4a5c-93e6-e66034907910 button');\n",
              "      quickchartButtonEl.style.display =\n",
              "        google.colab.kernel.accessAllowed ? 'block' : 'none';\n",
              "    })();\n",
              "  </script>\n",
              "</div>\n",
              "\n",
              "  <div id=\"id_78d77851-33f8-4917-b9a5-1f81891e3e2b\">\n",
              "    <style>\n",
              "      .colab-df-generate {\n",
              "        background-color: #E8F0FE;\n",
              "        border: none;\n",
              "        border-radius: 50%;\n",
              "        cursor: pointer;\n",
              "        display: none;\n",
              "        fill: #1967D2;\n",
              "        height: 32px;\n",
              "        padding: 0 0 0 0;\n",
              "        width: 32px;\n",
              "      }\n",
              "\n",
              "      .colab-df-generate:hover {\n",
              "        background-color: #E2EBFA;\n",
              "        box-shadow: 0px 1px 2px rgba(60, 64, 67, 0.3), 0px 1px 3px 1px rgba(60, 64, 67, 0.15);\n",
              "        fill: #174EA6;\n",
              "      }\n",
              "\n",
              "      [theme=dark] .colab-df-generate {\n",
              "        background-color: #3B4455;\n",
              "        fill: #D2E3FC;\n",
              "      }\n",
              "\n",
              "      [theme=dark] .colab-df-generate:hover {\n",
              "        background-color: #434B5C;\n",
              "        box-shadow: 0px 1px 3px 1px rgba(0, 0, 0, 0.15);\n",
              "        filter: drop-shadow(0px 1px 2px rgba(0, 0, 0, 0.3));\n",
              "        fill: #FFFFFF;\n",
              "      }\n",
              "    </style>\n",
              "    <button class=\"colab-df-generate\" onclick=\"generateWithVariable('chart')\"\n",
              "            title=\"Generate code using this dataframe.\"\n",
              "            style=\"display:none;\">\n",
              "\n",
              "  <svg xmlns=\"http://www.w3.org/2000/svg\" height=\"24px\"viewBox=\"0 0 24 24\"\n",
              "       width=\"24px\">\n",
              "    <path d=\"M7,19H8.4L18.45,9,17,7.55,7,17.6ZM5,21V16.75L18.45,3.32a2,2,0,0,1,2.83,0l1.4,1.43a1.91,1.91,0,0,1,.58,1.4,1.91,1.91,0,0,1-.58,1.4L9.25,21ZM18.45,9,17,7.55Zm-12,3A5.31,5.31,0,0,0,4.9,8.1,5.31,5.31,0,0,0,1,6.5,5.31,5.31,0,0,0,4.9,4.9,5.31,5.31,0,0,0,6.5,1,5.31,5.31,0,0,0,8.1,4.9,5.31,5.31,0,0,0,12,6.5,5.46,5.46,0,0,0,6.5,12Z\"/>\n",
              "  </svg>\n",
              "    </button>\n",
              "    <script>\n",
              "      (() => {\n",
              "      const buttonEl =\n",
              "        document.querySelector('#id_78d77851-33f8-4917-b9a5-1f81891e3e2b button.colab-df-generate');\n",
              "      buttonEl.style.display =\n",
              "        google.colab.kernel.accessAllowed ? 'block' : 'none';\n",
              "\n",
              "      buttonEl.onclick = () => {\n",
              "        google.colab.notebook.generateWithVariable('chart');\n",
              "      }\n",
              "      })();\n",
              "    </script>\n",
              "  </div>\n",
              "\n",
              "    </div>\n",
              "  </div>\n"
            ],
            "application/vnd.google.colaboratory.intrinsic+json": {
              "type": "dataframe",
              "variable_name": "chart",
              "summary": "{\n  \"name\": \"chart\",\n  \"rows\": 5,\n  \"fields\": [\n    {\n      \"column\": \"Metric\",\n      \"properties\": {\n        \"dtype\": \"string\",\n        \"num_unique_values\": 5,\n        \"samples\": [\n          \"F1-Score\",\n          \"R2-Score\",\n          \"Recall\"\n        ],\n        \"semantic_type\": \"\",\n        \"description\": \"\"\n      }\n    },\n    {\n      \"column\": \"RF\",\n      \"properties\": {\n        \"dtype\": \"number\",\n        \"std\": 0.06192830781400074,\n        \"min\": 0.8161700796161735,\n        \"max\": 0.9608177172061328,\n        \"num_unique_values\": 5,\n        \"samples\": [\n          0.9543147208121827,\n          0.8161700796161735,\n          0.9608177172061328\n        ],\n        \"semantic_type\": \"\",\n        \"description\": \"\"\n      }\n    },\n    {\n      \"column\": \"LR\",\n      \"properties\": {\n        \"dtype\": \"number\",\n        \"std\": 0.06011050025489746,\n        \"min\": 0.8229785951859449,\n        \"max\": 0.9701230228471002,\n        \"num_unique_values\": 5,\n        \"samples\": [\n          0.9550173010380623,\n          0.8229785951859449,\n          0.9403747870528109\n        ],\n        \"semantic_type\": \"\",\n        \"description\": \"\"\n      }\n    },\n    {\n      \"column\": \"XGB\",\n      \"properties\": {\n        \"dtype\": \"number\",\n        \"std\": 0.04127267115763263,\n        \"min\": 0.8842552353138871,\n        \"max\": 0.9911190053285968,\n        \"num_unique_values\": 5,\n        \"samples\": [\n          0.9704347826086956,\n          0.8842552353138871,\n          0.9505962521294719\n        ],\n        \"semantic_type\": \"\",\n        \"description\": \"\"\n      }\n    }\n  ]\n}"
            }
          },
          "metadata": {}
        }
      ]
    }
  ],
  "metadata": {
    "colab": {
      "provenance": []
    },
    "kernelspec": {
      "display_name": "Python 3",
      "name": "python3"
    },
    "language_info": {
      "name": "python"
    }
  },
  "nbformat": 4,
  "nbformat_minor": 0
}